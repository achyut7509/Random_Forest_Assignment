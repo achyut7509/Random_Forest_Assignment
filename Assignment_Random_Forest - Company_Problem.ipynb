{
 "cells": [
  {
   "cell_type": "markdown",
   "id": "dfdd19cd",
   "metadata": {},
   "source": [
    "# Random Forest - Company_Problem\n",
    "\n",
    "## -------------------------------------------------------------------------------------------------------------------------------\n",
    "## Problem Statement :-\n",
    "\n",
    "### A cloth manufacturing company is interested to know about the segment or attributes causes high sale. \n",
    "\n",
    "### Approach - A decision tree can be built with target variable Sale (we will first convert it in categorical variable) & all other variable will be independent in the analysis.  "
   ]
  },
  {
   "cell_type": "markdown",
   "id": "ebd44c1f",
   "metadata": {},
   "source": [
    "## 1. Import Libraries :"
   ]
  },
  {
   "cell_type": "code",
   "execution_count": 1,
   "id": "8cd33e16",
   "metadata": {},
   "outputs": [],
   "source": [
    "import pandas as pd\n",
    "import matplotlib.pyplot as plt\n",
    "\n",
    "import warnings\n",
    "warnings.filterwarnings('ignore')"
   ]
  },
  {
   "cell_type": "markdown",
   "id": "1eee222b",
   "metadata": {},
   "source": [
    "## 2. Import Dataset :"
   ]
  },
  {
   "cell_type": "code",
   "execution_count": 2,
   "id": "5c4a0aff",
   "metadata": {},
   "outputs": [
    {
     "data": {
      "text/html": [
       "<div>\n",
       "<style scoped>\n",
       "    .dataframe tbody tr th:only-of-type {\n",
       "        vertical-align: middle;\n",
       "    }\n",
       "\n",
       "    .dataframe tbody tr th {\n",
       "        vertical-align: top;\n",
       "    }\n",
       "\n",
       "    .dataframe thead th {\n",
       "        text-align: right;\n",
       "    }\n",
       "</style>\n",
       "<table border=\"1\" class=\"dataframe\">\n",
       "  <thead>\n",
       "    <tr style=\"text-align: right;\">\n",
       "      <th></th>\n",
       "      <th>Sales</th>\n",
       "      <th>CompPrice</th>\n",
       "      <th>Income</th>\n",
       "      <th>Advertising</th>\n",
       "      <th>Population</th>\n",
       "      <th>Price</th>\n",
       "      <th>ShelveLoc</th>\n",
       "      <th>Age</th>\n",
       "      <th>Education</th>\n",
       "      <th>Urban</th>\n",
       "      <th>US</th>\n",
       "    </tr>\n",
       "  </thead>\n",
       "  <tbody>\n",
       "    <tr>\n",
       "      <th>0</th>\n",
       "      <td>9.50</td>\n",
       "      <td>138</td>\n",
       "      <td>73</td>\n",
       "      <td>11</td>\n",
       "      <td>276</td>\n",
       "      <td>120</td>\n",
       "      <td>Bad</td>\n",
       "      <td>42</td>\n",
       "      <td>17</td>\n",
       "      <td>Yes</td>\n",
       "      <td>Yes</td>\n",
       "    </tr>\n",
       "    <tr>\n",
       "      <th>1</th>\n",
       "      <td>11.22</td>\n",
       "      <td>111</td>\n",
       "      <td>48</td>\n",
       "      <td>16</td>\n",
       "      <td>260</td>\n",
       "      <td>83</td>\n",
       "      <td>Good</td>\n",
       "      <td>65</td>\n",
       "      <td>10</td>\n",
       "      <td>Yes</td>\n",
       "      <td>Yes</td>\n",
       "    </tr>\n",
       "    <tr>\n",
       "      <th>2</th>\n",
       "      <td>10.06</td>\n",
       "      <td>113</td>\n",
       "      <td>35</td>\n",
       "      <td>10</td>\n",
       "      <td>269</td>\n",
       "      <td>80</td>\n",
       "      <td>Medium</td>\n",
       "      <td>59</td>\n",
       "      <td>12</td>\n",
       "      <td>Yes</td>\n",
       "      <td>Yes</td>\n",
       "    </tr>\n",
       "    <tr>\n",
       "      <th>3</th>\n",
       "      <td>7.40</td>\n",
       "      <td>117</td>\n",
       "      <td>100</td>\n",
       "      <td>4</td>\n",
       "      <td>466</td>\n",
       "      <td>97</td>\n",
       "      <td>Medium</td>\n",
       "      <td>55</td>\n",
       "      <td>14</td>\n",
       "      <td>Yes</td>\n",
       "      <td>Yes</td>\n",
       "    </tr>\n",
       "    <tr>\n",
       "      <th>4</th>\n",
       "      <td>4.15</td>\n",
       "      <td>141</td>\n",
       "      <td>64</td>\n",
       "      <td>3</td>\n",
       "      <td>340</td>\n",
       "      <td>128</td>\n",
       "      <td>Bad</td>\n",
       "      <td>38</td>\n",
       "      <td>13</td>\n",
       "      <td>Yes</td>\n",
       "      <td>No</td>\n",
       "    </tr>\n",
       "    <tr>\n",
       "      <th>...</th>\n",
       "      <td>...</td>\n",
       "      <td>...</td>\n",
       "      <td>...</td>\n",
       "      <td>...</td>\n",
       "      <td>...</td>\n",
       "      <td>...</td>\n",
       "      <td>...</td>\n",
       "      <td>...</td>\n",
       "      <td>...</td>\n",
       "      <td>...</td>\n",
       "      <td>...</td>\n",
       "    </tr>\n",
       "    <tr>\n",
       "      <th>395</th>\n",
       "      <td>12.57</td>\n",
       "      <td>138</td>\n",
       "      <td>108</td>\n",
       "      <td>17</td>\n",
       "      <td>203</td>\n",
       "      <td>128</td>\n",
       "      <td>Good</td>\n",
       "      <td>33</td>\n",
       "      <td>14</td>\n",
       "      <td>Yes</td>\n",
       "      <td>Yes</td>\n",
       "    </tr>\n",
       "    <tr>\n",
       "      <th>396</th>\n",
       "      <td>6.14</td>\n",
       "      <td>139</td>\n",
       "      <td>23</td>\n",
       "      <td>3</td>\n",
       "      <td>37</td>\n",
       "      <td>120</td>\n",
       "      <td>Medium</td>\n",
       "      <td>55</td>\n",
       "      <td>11</td>\n",
       "      <td>No</td>\n",
       "      <td>Yes</td>\n",
       "    </tr>\n",
       "    <tr>\n",
       "      <th>397</th>\n",
       "      <td>7.41</td>\n",
       "      <td>162</td>\n",
       "      <td>26</td>\n",
       "      <td>12</td>\n",
       "      <td>368</td>\n",
       "      <td>159</td>\n",
       "      <td>Medium</td>\n",
       "      <td>40</td>\n",
       "      <td>18</td>\n",
       "      <td>Yes</td>\n",
       "      <td>Yes</td>\n",
       "    </tr>\n",
       "    <tr>\n",
       "      <th>398</th>\n",
       "      <td>5.94</td>\n",
       "      <td>100</td>\n",
       "      <td>79</td>\n",
       "      <td>7</td>\n",
       "      <td>284</td>\n",
       "      <td>95</td>\n",
       "      <td>Bad</td>\n",
       "      <td>50</td>\n",
       "      <td>12</td>\n",
       "      <td>Yes</td>\n",
       "      <td>Yes</td>\n",
       "    </tr>\n",
       "    <tr>\n",
       "      <th>399</th>\n",
       "      <td>9.71</td>\n",
       "      <td>134</td>\n",
       "      <td>37</td>\n",
       "      <td>0</td>\n",
       "      <td>27</td>\n",
       "      <td>120</td>\n",
       "      <td>Good</td>\n",
       "      <td>49</td>\n",
       "      <td>16</td>\n",
       "      <td>Yes</td>\n",
       "      <td>Yes</td>\n",
       "    </tr>\n",
       "  </tbody>\n",
       "</table>\n",
       "<p>400 rows × 11 columns</p>\n",
       "</div>"
      ],
      "text/plain": [
       "     Sales  CompPrice  Income  Advertising  Population  Price ShelveLoc  Age  \\\n",
       "0     9.50        138      73           11         276    120       Bad   42   \n",
       "1    11.22        111      48           16         260     83      Good   65   \n",
       "2    10.06        113      35           10         269     80    Medium   59   \n",
       "3     7.40        117     100            4         466     97    Medium   55   \n",
       "4     4.15        141      64            3         340    128       Bad   38   \n",
       "..     ...        ...     ...          ...         ...    ...       ...  ...   \n",
       "395  12.57        138     108           17         203    128      Good   33   \n",
       "396   6.14        139      23            3          37    120    Medium   55   \n",
       "397   7.41        162      26           12         368    159    Medium   40   \n",
       "398   5.94        100      79            7         284     95       Bad   50   \n",
       "399   9.71        134      37            0          27    120      Good   49   \n",
       "\n",
       "     Education Urban   US  \n",
       "0           17   Yes  Yes  \n",
       "1           10   Yes  Yes  \n",
       "2           12   Yes  Yes  \n",
       "3           14   Yes  Yes  \n",
       "4           13   Yes   No  \n",
       "..         ...   ...  ...  \n",
       "395         14   Yes  Yes  \n",
       "396         11    No  Yes  \n",
       "397         18   Yes  Yes  \n",
       "398         12   Yes  Yes  \n",
       "399         16   Yes  Yes  \n",
       "\n",
       "[400 rows x 11 columns]"
      ]
     },
     "execution_count": 2,
     "metadata": {},
     "output_type": "execute_result"
    }
   ],
   "source": [
    "company_data = pd.read_csv('Company_Data.csv',sep=',')\n",
    "company_data"
   ]
  },
  {
   "cell_type": "markdown",
   "id": "82e0d462",
   "metadata": {},
   "source": [
    "## 3. Data Understanding :"
   ]
  },
  {
   "cell_type": "markdown",
   "id": "f7df96cd",
   "metadata": {},
   "source": [
    "### 3.1  About the data : \n",
    "\n",
    "Let’s consider a Company dataset with around 10 variables and 400 records. \n",
    "The attributes are as follows: \n",
    "*  **Sales** -- Unit sales (in thousands) at each location\n",
    "*  **Competitor Price** -- Price charged by competitor at each location\n",
    "*  **Income** -- Community income level (in thousands of dollars)\n",
    "*  **Advertising** -- Local advertising budget for company at each location (in thousands of dollars)\n",
    "*  **Population** -- Population size in region (in thousands)\n",
    "*  **Price** -- Price company charges for car seats at each site\n",
    "*  **Shelf Location at stores** -- A factor with levels Bad, Good and Medium indicating the quality of the shelving location for the car seats at each site\n",
    "*  **Age** -- Average age of the local population\n",
    "*  **Education** -- Education level at each location\n",
    "*  **Urban** -- A factor with levels No and Yes to indicate whether the store is in an urban or rural location\n",
    "*  **US** -- A factor with levels No and Yes to indicate whether the store is in the US or not\n",
    " "
   ]
  },
  {
   "cell_type": "markdown",
   "id": "7b830d0c",
   "metadata": {},
   "source": [
    "### 3.2 Initial Analysis :"
   ]
  },
  {
   "cell_type": "code",
   "execution_count": 3,
   "id": "d551a15e",
   "metadata": {},
   "outputs": [
    {
     "data": {
      "text/plain": [
       "(400, 11)"
      ]
     },
     "execution_count": 3,
     "metadata": {},
     "output_type": "execute_result"
    }
   ],
   "source": [
    "company_data.shape"
   ]
  },
  {
   "cell_type": "code",
   "execution_count": 4,
   "id": "bfe30b72",
   "metadata": {},
   "outputs": [
    {
     "data": {
      "text/plain": [
       "Sales          0\n",
       "CompPrice      0\n",
       "Income         0\n",
       "Advertising    0\n",
       "Population     0\n",
       "Price          0\n",
       "ShelveLoc      0\n",
       "Age            0\n",
       "Education      0\n",
       "Urban          0\n",
       "US             0\n",
       "dtype: int64"
      ]
     },
     "execution_count": 4,
     "metadata": {},
     "output_type": "execute_result"
    }
   ],
   "source": [
    "company_data.isna().sum()"
   ]
  },
  {
   "cell_type": "code",
   "execution_count": 5,
   "id": "12678820",
   "metadata": {},
   "outputs": [
    {
     "data": {
      "text/plain": [
       "Sales          float64\n",
       "CompPrice        int64\n",
       "Income           int64\n",
       "Advertising      int64\n",
       "Population       int64\n",
       "Price            int64\n",
       "ShelveLoc       object\n",
       "Age              int64\n",
       "Education        int64\n",
       "Urban           object\n",
       "US              object\n",
       "dtype: object"
      ]
     },
     "execution_count": 5,
     "metadata": {},
     "output_type": "execute_result"
    }
   ],
   "source": [
    "company_data.dtypes"
   ]
  },
  {
   "cell_type": "markdown",
   "id": "2bfa6986",
   "metadata": {},
   "source": [
    "## 4. Data Preparation :"
   ]
  },
  {
   "cell_type": "code",
   "execution_count": 6,
   "id": "7a873ed1",
   "metadata": {},
   "outputs": [
    {
     "data": {
      "text/html": [
       "<div>\n",
       "<style scoped>\n",
       "    .dataframe tbody tr th:only-of-type {\n",
       "        vertical-align: middle;\n",
       "    }\n",
       "\n",
       "    .dataframe tbody tr th {\n",
       "        vertical-align: top;\n",
       "    }\n",
       "\n",
       "    .dataframe thead th {\n",
       "        text-align: right;\n",
       "    }\n",
       "</style>\n",
       "<table border=\"1\" class=\"dataframe\">\n",
       "  <thead>\n",
       "    <tr style=\"text-align: right;\">\n",
       "      <th></th>\n",
       "      <th>sales</th>\n",
       "      <th>comp_price</th>\n",
       "      <th>income</th>\n",
       "      <th>advertising</th>\n",
       "      <th>population</th>\n",
       "      <th>price</th>\n",
       "      <th>shelf_loc</th>\n",
       "      <th>age</th>\n",
       "      <th>education</th>\n",
       "      <th>urban</th>\n",
       "      <th>us</th>\n",
       "    </tr>\n",
       "  </thead>\n",
       "  <tbody>\n",
       "    <tr>\n",
       "      <th>0</th>\n",
       "      <td>9.50</td>\n",
       "      <td>138</td>\n",
       "      <td>73</td>\n",
       "      <td>11</td>\n",
       "      <td>276</td>\n",
       "      <td>120</td>\n",
       "      <td>Bad</td>\n",
       "      <td>42</td>\n",
       "      <td>17</td>\n",
       "      <td>Yes</td>\n",
       "      <td>Yes</td>\n",
       "    </tr>\n",
       "    <tr>\n",
       "      <th>1</th>\n",
       "      <td>11.22</td>\n",
       "      <td>111</td>\n",
       "      <td>48</td>\n",
       "      <td>16</td>\n",
       "      <td>260</td>\n",
       "      <td>83</td>\n",
       "      <td>Good</td>\n",
       "      <td>65</td>\n",
       "      <td>10</td>\n",
       "      <td>Yes</td>\n",
       "      <td>Yes</td>\n",
       "    </tr>\n",
       "    <tr>\n",
       "      <th>2</th>\n",
       "      <td>10.06</td>\n",
       "      <td>113</td>\n",
       "      <td>35</td>\n",
       "      <td>10</td>\n",
       "      <td>269</td>\n",
       "      <td>80</td>\n",
       "      <td>Medium</td>\n",
       "      <td>59</td>\n",
       "      <td>12</td>\n",
       "      <td>Yes</td>\n",
       "      <td>Yes</td>\n",
       "    </tr>\n",
       "    <tr>\n",
       "      <th>3</th>\n",
       "      <td>7.40</td>\n",
       "      <td>117</td>\n",
       "      <td>100</td>\n",
       "      <td>4</td>\n",
       "      <td>466</td>\n",
       "      <td>97</td>\n",
       "      <td>Medium</td>\n",
       "      <td>55</td>\n",
       "      <td>14</td>\n",
       "      <td>Yes</td>\n",
       "      <td>Yes</td>\n",
       "    </tr>\n",
       "    <tr>\n",
       "      <th>4</th>\n",
       "      <td>4.15</td>\n",
       "      <td>141</td>\n",
       "      <td>64</td>\n",
       "      <td>3</td>\n",
       "      <td>340</td>\n",
       "      <td>128</td>\n",
       "      <td>Bad</td>\n",
       "      <td>38</td>\n",
       "      <td>13</td>\n",
       "      <td>Yes</td>\n",
       "      <td>No</td>\n",
       "    </tr>\n",
       "  </tbody>\n",
       "</table>\n",
       "</div>"
      ],
      "text/plain": [
       "   sales  comp_price  income  advertising  population  price shelf_loc  age  \\\n",
       "0   9.50         138      73           11         276    120       Bad   42   \n",
       "1  11.22         111      48           16         260     83      Good   65   \n",
       "2  10.06         113      35           10         269     80    Medium   59   \n",
       "3   7.40         117     100            4         466     97    Medium   55   \n",
       "4   4.15         141      64            3         340    128       Bad   38   \n",
       "\n",
       "   education urban   us  \n",
       "0         17   Yes  Yes  \n",
       "1         10   Yes  Yes  \n",
       "2         12   Yes  Yes  \n",
       "3         14   Yes  Yes  \n",
       "4         13   Yes   No  "
      ]
     },
     "execution_count": 6,
     "metadata": {},
     "output_type": "execute_result"
    }
   ],
   "source": [
    "# Renaming columns\n",
    "company_data.columns =['sales','comp_price','income','advertising','population','price','shelf_loc','age','education','urban','us']\n",
    "company_data.head()"
   ]
  },
  {
   "cell_type": "code",
   "execution_count": 7,
   "id": "f2fd4df9",
   "metadata": {
    "scrolled": false
   },
   "outputs": [
    {
     "data": {
      "text/plain": [
       "7.496"
      ]
     },
     "execution_count": 7,
     "metadata": {},
     "output_type": "execute_result"
    }
   ],
   "source": [
    "round(company_data['sales'].mean(),3)"
   ]
  },
  {
   "cell_type": "code",
   "execution_count": 8,
   "id": "c9e2e888",
   "metadata": {},
   "outputs": [
    {
     "data": {
      "text/plain": [
       "7.49"
      ]
     },
     "execution_count": 8,
     "metadata": {},
     "output_type": "execute_result"
    }
   ],
   "source": [
    "round(company_data['sales'].median(),3)"
   ]
  },
  {
   "cell_type": "code",
   "execution_count": 9,
   "id": "3e60a4fe",
   "metadata": {},
   "outputs": [
    {
     "data": {
      "text/html": [
       "<div>\n",
       "<style scoped>\n",
       "    .dataframe tbody tr th:only-of-type {\n",
       "        vertical-align: middle;\n",
       "    }\n",
       "\n",
       "    .dataframe tbody tr th {\n",
       "        vertical-align: top;\n",
       "    }\n",
       "\n",
       "    .dataframe thead th {\n",
       "        text-align: right;\n",
       "    }\n",
       "</style>\n",
       "<table border=\"1\" class=\"dataframe\">\n",
       "  <thead>\n",
       "    <tr style=\"text-align: right;\">\n",
       "      <th></th>\n",
       "      <th>sales</th>\n",
       "      <th>comp_price</th>\n",
       "      <th>income</th>\n",
       "      <th>advertising</th>\n",
       "      <th>population</th>\n",
       "      <th>price</th>\n",
       "      <th>shelf_loc</th>\n",
       "      <th>age</th>\n",
       "      <th>education</th>\n",
       "      <th>urban</th>\n",
       "      <th>us</th>\n",
       "      <th>target_sales</th>\n",
       "    </tr>\n",
       "  </thead>\n",
       "  <tbody>\n",
       "    <tr>\n",
       "      <th>0</th>\n",
       "      <td>9.50</td>\n",
       "      <td>138</td>\n",
       "      <td>73</td>\n",
       "      <td>11</td>\n",
       "      <td>276</td>\n",
       "      <td>120</td>\n",
       "      <td>Bad</td>\n",
       "      <td>42</td>\n",
       "      <td>17</td>\n",
       "      <td>Yes</td>\n",
       "      <td>Yes</td>\n",
       "      <td>N/A</td>\n",
       "    </tr>\n",
       "    <tr>\n",
       "      <th>1</th>\n",
       "      <td>11.22</td>\n",
       "      <td>111</td>\n",
       "      <td>48</td>\n",
       "      <td>16</td>\n",
       "      <td>260</td>\n",
       "      <td>83</td>\n",
       "      <td>Good</td>\n",
       "      <td>65</td>\n",
       "      <td>10</td>\n",
       "      <td>Yes</td>\n",
       "      <td>Yes</td>\n",
       "      <td>N/A</td>\n",
       "    </tr>\n",
       "    <tr>\n",
       "      <th>2</th>\n",
       "      <td>10.06</td>\n",
       "      <td>113</td>\n",
       "      <td>35</td>\n",
       "      <td>10</td>\n",
       "      <td>269</td>\n",
       "      <td>80</td>\n",
       "      <td>Medium</td>\n",
       "      <td>59</td>\n",
       "      <td>12</td>\n",
       "      <td>Yes</td>\n",
       "      <td>Yes</td>\n",
       "      <td>N/A</td>\n",
       "    </tr>\n",
       "    <tr>\n",
       "      <th>3</th>\n",
       "      <td>7.40</td>\n",
       "      <td>117</td>\n",
       "      <td>100</td>\n",
       "      <td>4</td>\n",
       "      <td>466</td>\n",
       "      <td>97</td>\n",
       "      <td>Medium</td>\n",
       "      <td>55</td>\n",
       "      <td>14</td>\n",
       "      <td>Yes</td>\n",
       "      <td>Yes</td>\n",
       "      <td>N/A</td>\n",
       "    </tr>\n",
       "    <tr>\n",
       "      <th>4</th>\n",
       "      <td>4.15</td>\n",
       "      <td>141</td>\n",
       "      <td>64</td>\n",
       "      <td>3</td>\n",
       "      <td>340</td>\n",
       "      <td>128</td>\n",
       "      <td>Bad</td>\n",
       "      <td>38</td>\n",
       "      <td>13</td>\n",
       "      <td>Yes</td>\n",
       "      <td>No</td>\n",
       "      <td>N/A</td>\n",
       "    </tr>\n",
       "  </tbody>\n",
       "</table>\n",
       "</div>"
      ],
      "text/plain": [
       "   sales  comp_price  income  advertising  population  price shelf_loc  age  \\\n",
       "0   9.50         138      73           11         276    120       Bad   42   \n",
       "1  11.22         111      48           16         260     83      Good   65   \n",
       "2  10.06         113      35           10         269     80    Medium   59   \n",
       "3   7.40         117     100            4         466     97    Medium   55   \n",
       "4   4.15         141      64            3         340    128       Bad   38   \n",
       "\n",
       "   education urban   us target_sales  \n",
       "0         17   Yes  Yes          N/A  \n",
       "1         10   Yes  Yes          N/A  \n",
       "2         12   Yes  Yes          N/A  \n",
       "3         14   Yes  Yes          N/A  \n",
       "4         13   Yes   No          N/A  "
      ]
     },
     "execution_count": 9,
     "metadata": {},
     "output_type": "execute_result"
    }
   ],
   "source": [
    "#creating a target column \n",
    "company_data['target_sales'] = 'N/A'\n",
    "company_data.head()"
   ]
  },
  {
   "cell_type": "code",
   "execution_count": 10,
   "id": "66c2ce89",
   "metadata": {},
   "outputs": [],
   "source": [
    "# Above Mentioned that the target variable is based on sales.\n",
    "# So we know that sales can be either **\"High\"** or \"Low\".\n",
    "# Based on this sales price we must design a target variable.\n",
    "# As we know that the average sales is \"7.49\". \n",
    "# So we can assume sales > 7.50 is \"High\" and sales < 7.50 is \"Low\"\n",
    "\n",
    "\n",
    "for i in range(0,company_data.shape[0]):\n",
    "    if company_data.sales[i] > 7.50:\n",
    "        company_data.target_sales[i] = 'High'\n",
    "    else:\n",
    "        company_data.target_sales[i] = 'Low'"
   ]
  },
  {
   "cell_type": "code",
   "execution_count": 11,
   "id": "c9be1e85",
   "metadata": {},
   "outputs": [
    {
     "data": {
      "text/html": [
       "<div>\n",
       "<style scoped>\n",
       "    .dataframe tbody tr th:only-of-type {\n",
       "        vertical-align: middle;\n",
       "    }\n",
       "\n",
       "    .dataframe tbody tr th {\n",
       "        vertical-align: top;\n",
       "    }\n",
       "\n",
       "    .dataframe thead th {\n",
       "        text-align: right;\n",
       "    }\n",
       "</style>\n",
       "<table border=\"1\" class=\"dataframe\">\n",
       "  <thead>\n",
       "    <tr style=\"text-align: right;\">\n",
       "      <th></th>\n",
       "      <th>sales</th>\n",
       "      <th>comp_price</th>\n",
       "      <th>income</th>\n",
       "      <th>advertising</th>\n",
       "      <th>population</th>\n",
       "      <th>price</th>\n",
       "      <th>shelf_loc</th>\n",
       "      <th>age</th>\n",
       "      <th>education</th>\n",
       "      <th>urban</th>\n",
       "      <th>us</th>\n",
       "      <th>target_sales</th>\n",
       "    </tr>\n",
       "  </thead>\n",
       "  <tbody>\n",
       "    <tr>\n",
       "      <th>0</th>\n",
       "      <td>9.50</td>\n",
       "      <td>138</td>\n",
       "      <td>73</td>\n",
       "      <td>11</td>\n",
       "      <td>276</td>\n",
       "      <td>120</td>\n",
       "      <td>Bad</td>\n",
       "      <td>42</td>\n",
       "      <td>17</td>\n",
       "      <td>Yes</td>\n",
       "      <td>Yes</td>\n",
       "      <td>High</td>\n",
       "    </tr>\n",
       "    <tr>\n",
       "      <th>1</th>\n",
       "      <td>11.22</td>\n",
       "      <td>111</td>\n",
       "      <td>48</td>\n",
       "      <td>16</td>\n",
       "      <td>260</td>\n",
       "      <td>83</td>\n",
       "      <td>Good</td>\n",
       "      <td>65</td>\n",
       "      <td>10</td>\n",
       "      <td>Yes</td>\n",
       "      <td>Yes</td>\n",
       "      <td>High</td>\n",
       "    </tr>\n",
       "    <tr>\n",
       "      <th>2</th>\n",
       "      <td>10.06</td>\n",
       "      <td>113</td>\n",
       "      <td>35</td>\n",
       "      <td>10</td>\n",
       "      <td>269</td>\n",
       "      <td>80</td>\n",
       "      <td>Medium</td>\n",
       "      <td>59</td>\n",
       "      <td>12</td>\n",
       "      <td>Yes</td>\n",
       "      <td>Yes</td>\n",
       "      <td>High</td>\n",
       "    </tr>\n",
       "    <tr>\n",
       "      <th>3</th>\n",
       "      <td>7.40</td>\n",
       "      <td>117</td>\n",
       "      <td>100</td>\n",
       "      <td>4</td>\n",
       "      <td>466</td>\n",
       "      <td>97</td>\n",
       "      <td>Medium</td>\n",
       "      <td>55</td>\n",
       "      <td>14</td>\n",
       "      <td>Yes</td>\n",
       "      <td>Yes</td>\n",
       "      <td>Low</td>\n",
       "    </tr>\n",
       "    <tr>\n",
       "      <th>4</th>\n",
       "      <td>4.15</td>\n",
       "      <td>141</td>\n",
       "      <td>64</td>\n",
       "      <td>3</td>\n",
       "      <td>340</td>\n",
       "      <td>128</td>\n",
       "      <td>Bad</td>\n",
       "      <td>38</td>\n",
       "      <td>13</td>\n",
       "      <td>Yes</td>\n",
       "      <td>No</td>\n",
       "      <td>Low</td>\n",
       "    </tr>\n",
       "  </tbody>\n",
       "</table>\n",
       "</div>"
      ],
      "text/plain": [
       "   sales  comp_price  income  advertising  population  price shelf_loc  age  \\\n",
       "0   9.50         138      73           11         276    120       Bad   42   \n",
       "1  11.22         111      48           16         260     83      Good   65   \n",
       "2  10.06         113      35           10         269     80    Medium   59   \n",
       "3   7.40         117     100            4         466     97    Medium   55   \n",
       "4   4.15         141      64            3         340    128       Bad   38   \n",
       "\n",
       "   education urban   us target_sales  \n",
       "0         17   Yes  Yes         High  \n",
       "1         10   Yes  Yes         High  \n",
       "2         12   Yes  Yes         High  \n",
       "3         14   Yes  Yes          Low  \n",
       "4         13   Yes   No          Low  "
      ]
     },
     "execution_count": 11,
     "metadata": {},
     "output_type": "execute_result"
    }
   ],
   "source": [
    "company_data.head()"
   ]
  },
  {
   "cell_type": "code",
   "execution_count": 12,
   "id": "c1f64b63",
   "metadata": {},
   "outputs": [
    {
     "data": {
      "text/plain": [
       "sales           float64\n",
       "comp_price        int64\n",
       "income            int64\n",
       "advertising       int64\n",
       "population        int64\n",
       "price             int64\n",
       "shelf_loc        object\n",
       "age               int64\n",
       "education         int64\n",
       "urban            object\n",
       "us               object\n",
       "target_sales     object\n",
       "dtype: object"
      ]
     },
     "execution_count": 12,
     "metadata": {},
     "output_type": "execute_result"
    }
   ],
   "source": [
    "company_data.dtypes"
   ]
  },
  {
   "cell_type": "markdown",
   "id": "bf44618e",
   "metadata": {},
   "source": [
    "## 5. Data Pre-Processing :"
   ]
  },
  {
   "cell_type": "markdown",
   "id": "3d8a93d3",
   "metadata": {},
   "source": [
    "### 5.1 Data Transformation :"
   ]
  },
  {
   "cell_type": "code",
   "execution_count": 13,
   "id": "cc70e292",
   "metadata": {},
   "outputs": [
    {
     "data": {
      "text/html": [
       "<div>\n",
       "<style scoped>\n",
       "    .dataframe tbody tr th:only-of-type {\n",
       "        vertical-align: middle;\n",
       "    }\n",
       "\n",
       "    .dataframe tbody tr th {\n",
       "        vertical-align: top;\n",
       "    }\n",
       "\n",
       "    .dataframe thead th {\n",
       "        text-align: right;\n",
       "    }\n",
       "</style>\n",
       "<table border=\"1\" class=\"dataframe\">\n",
       "  <thead>\n",
       "    <tr style=\"text-align: right;\">\n",
       "      <th></th>\n",
       "      <th>sales</th>\n",
       "      <th>comp_price</th>\n",
       "      <th>income</th>\n",
       "      <th>advertising</th>\n",
       "      <th>population</th>\n",
       "      <th>price</th>\n",
       "      <th>shelf_loc</th>\n",
       "      <th>age</th>\n",
       "      <th>education</th>\n",
       "      <th>urban</th>\n",
       "      <th>us</th>\n",
       "      <th>target_sales</th>\n",
       "    </tr>\n",
       "  </thead>\n",
       "  <tbody>\n",
       "    <tr>\n",
       "      <th>0</th>\n",
       "      <td>9.50</td>\n",
       "      <td>138</td>\n",
       "      <td>73</td>\n",
       "      <td>11</td>\n",
       "      <td>276</td>\n",
       "      <td>120</td>\n",
       "      <td>Bad</td>\n",
       "      <td>42</td>\n",
       "      <td>17</td>\n",
       "      <td>Yes</td>\n",
       "      <td>Yes</td>\n",
       "      <td>High</td>\n",
       "    </tr>\n",
       "    <tr>\n",
       "      <th>1</th>\n",
       "      <td>11.22</td>\n",
       "      <td>111</td>\n",
       "      <td>48</td>\n",
       "      <td>16</td>\n",
       "      <td>260</td>\n",
       "      <td>83</td>\n",
       "      <td>Good</td>\n",
       "      <td>65</td>\n",
       "      <td>10</td>\n",
       "      <td>Yes</td>\n",
       "      <td>Yes</td>\n",
       "      <td>High</td>\n",
       "    </tr>\n",
       "    <tr>\n",
       "      <th>2</th>\n",
       "      <td>10.06</td>\n",
       "      <td>113</td>\n",
       "      <td>35</td>\n",
       "      <td>10</td>\n",
       "      <td>269</td>\n",
       "      <td>80</td>\n",
       "      <td>Medium</td>\n",
       "      <td>59</td>\n",
       "      <td>12</td>\n",
       "      <td>Yes</td>\n",
       "      <td>Yes</td>\n",
       "      <td>High</td>\n",
       "    </tr>\n",
       "    <tr>\n",
       "      <th>3</th>\n",
       "      <td>7.40</td>\n",
       "      <td>117</td>\n",
       "      <td>100</td>\n",
       "      <td>4</td>\n",
       "      <td>466</td>\n",
       "      <td>97</td>\n",
       "      <td>Medium</td>\n",
       "      <td>55</td>\n",
       "      <td>14</td>\n",
       "      <td>Yes</td>\n",
       "      <td>Yes</td>\n",
       "      <td>Low</td>\n",
       "    </tr>\n",
       "    <tr>\n",
       "      <th>4</th>\n",
       "      <td>4.15</td>\n",
       "      <td>141</td>\n",
       "      <td>64</td>\n",
       "      <td>3</td>\n",
       "      <td>340</td>\n",
       "      <td>128</td>\n",
       "      <td>Bad</td>\n",
       "      <td>38</td>\n",
       "      <td>13</td>\n",
       "      <td>Yes</td>\n",
       "      <td>No</td>\n",
       "      <td>Low</td>\n",
       "    </tr>\n",
       "  </tbody>\n",
       "</table>\n",
       "</div>"
      ],
      "text/plain": [
       "   sales  comp_price  income  advertising  population  price shelf_loc  age  \\\n",
       "0   9.50         138      73           11         276    120       Bad   42   \n",
       "1  11.22         111      48           16         260     83      Good   65   \n",
       "2  10.06         113      35           10         269     80    Medium   59   \n",
       "3   7.40         117     100            4         466     97    Medium   55   \n",
       "4   4.15         141      64            3         340    128       Bad   38   \n",
       "\n",
       "   education urban   us target_sales  \n",
       "0         17   Yes  Yes         High  \n",
       "1         10   Yes  Yes         High  \n",
       "2         12   Yes  Yes         High  \n",
       "3         14   Yes  Yes          Low  \n",
       "4         13   Yes   No          Low  "
      ]
     },
     "execution_count": 13,
     "metadata": {},
     "output_type": "execute_result"
    }
   ],
   "source": [
    "company_data_copy = company_data.copy()\n",
    "company_data_copy.head()"
   ]
  },
  {
   "cell_type": "markdown",
   "id": "f4bbc005",
   "metadata": {},
   "source": [
    "#### I. First converting the object data types to \"Categorical\" Datatypes."
   ]
  },
  {
   "cell_type": "code",
   "execution_count": 14,
   "id": "55792018",
   "metadata": {},
   "outputs": [],
   "source": [
    "company_data_copy['shelf_loc']    = company_data_copy['shelf_loc'].astype('category')\n",
    "company_data_copy['urban']        = company_data_copy['urban'].astype('category')\n",
    "company_data_copy['us']           = company_data_copy['us'].astype('category')\n",
    "company_data_copy['target_sales'] = company_data_copy['target_sales'].astype('category')"
   ]
  },
  {
   "cell_type": "code",
   "execution_count": 15,
   "id": "619e9f3c",
   "metadata": {},
   "outputs": [
    {
     "data": {
      "text/plain": [
       "sales            float64\n",
       "comp_price         int64\n",
       "income             int64\n",
       "advertising        int64\n",
       "population         int64\n",
       "price              int64\n",
       "shelf_loc       category\n",
       "age                int64\n",
       "education          int64\n",
       "urban           category\n",
       "us              category\n",
       "target_sales    category\n",
       "dtype: object"
      ]
     },
     "execution_count": 15,
     "metadata": {},
     "output_type": "execute_result"
    }
   ],
   "source": [
    "# checking the conversion\n",
    "company_data_copy.dtypes"
   ]
  },
  {
   "cell_type": "markdown",
   "id": "b8ef53ec",
   "metadata": {},
   "source": [
    "#### II. Converting the converted \"categorical\" data types to \"numerical\" Datatypes using encoding technique."
   ]
  },
  {
   "cell_type": "code",
   "execution_count": 16,
   "id": "ba357daf",
   "metadata": {},
   "outputs": [],
   "source": [
    "from sklearn.preprocessing import LabelEncoder\n",
    "le = LabelEncoder()\n",
    "company_data_copy['shelf_loc']    = le.fit_transform(company_data_copy['shelf_loc'])\n",
    "company_data_copy['urban']        = le.fit_transform(company_data_copy['urban'])\n",
    "company_data_copy['us']           = le.fit_transform(company_data_copy['us'])\n",
    "company_data_copy['target_sales'] = le.fit_transform(company_data_copy['target_sales'])"
   ]
  },
  {
   "cell_type": "code",
   "execution_count": 17,
   "id": "83029368",
   "metadata": {},
   "outputs": [
    {
     "data": {
      "text/html": [
       "<div>\n",
       "<style scoped>\n",
       "    .dataframe tbody tr th:only-of-type {\n",
       "        vertical-align: middle;\n",
       "    }\n",
       "\n",
       "    .dataframe tbody tr th {\n",
       "        vertical-align: top;\n",
       "    }\n",
       "\n",
       "    .dataframe thead th {\n",
       "        text-align: right;\n",
       "    }\n",
       "</style>\n",
       "<table border=\"1\" class=\"dataframe\">\n",
       "  <thead>\n",
       "    <tr style=\"text-align: right;\">\n",
       "      <th></th>\n",
       "      <th>sales</th>\n",
       "      <th>comp_price</th>\n",
       "      <th>income</th>\n",
       "      <th>advertising</th>\n",
       "      <th>population</th>\n",
       "      <th>price</th>\n",
       "      <th>shelf_loc</th>\n",
       "      <th>age</th>\n",
       "      <th>education</th>\n",
       "      <th>urban</th>\n",
       "      <th>us</th>\n",
       "      <th>target_sales</th>\n",
       "    </tr>\n",
       "  </thead>\n",
       "  <tbody>\n",
       "    <tr>\n",
       "      <th>0</th>\n",
       "      <td>9.50</td>\n",
       "      <td>138</td>\n",
       "      <td>73</td>\n",
       "      <td>11</td>\n",
       "      <td>276</td>\n",
       "      <td>120</td>\n",
       "      <td>0</td>\n",
       "      <td>42</td>\n",
       "      <td>17</td>\n",
       "      <td>1</td>\n",
       "      <td>1</td>\n",
       "      <td>0</td>\n",
       "    </tr>\n",
       "    <tr>\n",
       "      <th>1</th>\n",
       "      <td>11.22</td>\n",
       "      <td>111</td>\n",
       "      <td>48</td>\n",
       "      <td>16</td>\n",
       "      <td>260</td>\n",
       "      <td>83</td>\n",
       "      <td>1</td>\n",
       "      <td>65</td>\n",
       "      <td>10</td>\n",
       "      <td>1</td>\n",
       "      <td>1</td>\n",
       "      <td>0</td>\n",
       "    </tr>\n",
       "    <tr>\n",
       "      <th>2</th>\n",
       "      <td>10.06</td>\n",
       "      <td>113</td>\n",
       "      <td>35</td>\n",
       "      <td>10</td>\n",
       "      <td>269</td>\n",
       "      <td>80</td>\n",
       "      <td>2</td>\n",
       "      <td>59</td>\n",
       "      <td>12</td>\n",
       "      <td>1</td>\n",
       "      <td>1</td>\n",
       "      <td>0</td>\n",
       "    </tr>\n",
       "    <tr>\n",
       "      <th>3</th>\n",
       "      <td>7.40</td>\n",
       "      <td>117</td>\n",
       "      <td>100</td>\n",
       "      <td>4</td>\n",
       "      <td>466</td>\n",
       "      <td>97</td>\n",
       "      <td>2</td>\n",
       "      <td>55</td>\n",
       "      <td>14</td>\n",
       "      <td>1</td>\n",
       "      <td>1</td>\n",
       "      <td>1</td>\n",
       "    </tr>\n",
       "    <tr>\n",
       "      <th>4</th>\n",
       "      <td>4.15</td>\n",
       "      <td>141</td>\n",
       "      <td>64</td>\n",
       "      <td>3</td>\n",
       "      <td>340</td>\n",
       "      <td>128</td>\n",
       "      <td>0</td>\n",
       "      <td>38</td>\n",
       "      <td>13</td>\n",
       "      <td>1</td>\n",
       "      <td>0</td>\n",
       "      <td>1</td>\n",
       "    </tr>\n",
       "  </tbody>\n",
       "</table>\n",
       "</div>"
      ],
      "text/plain": [
       "   sales  comp_price  income  advertising  population  price  shelf_loc  age  \\\n",
       "0   9.50         138      73           11         276    120          0   42   \n",
       "1  11.22         111      48           16         260     83          1   65   \n",
       "2  10.06         113      35           10         269     80          2   59   \n",
       "3   7.40         117     100            4         466     97          2   55   \n",
       "4   4.15         141      64            3         340    128          0   38   \n",
       "\n",
       "   education  urban  us  target_sales  \n",
       "0         17      1   1             0  \n",
       "1         10      1   1             0  \n",
       "2         12      1   1             0  \n",
       "3         14      1   1             1  \n",
       "4         13      1   0             1  "
      ]
     },
     "execution_count": 17,
     "metadata": {},
     "output_type": "execute_result"
    }
   ],
   "source": [
    "company_data_copy.head()"
   ]
  },
  {
   "cell_type": "markdown",
   "id": "f28c00f6",
   "metadata": {},
   "source": [
    "##### 1. Shelf_loc transformation :"
   ]
  },
  {
   "cell_type": "code",
   "execution_count": 18,
   "id": "6f2a0b7d",
   "metadata": {},
   "outputs": [
    {
     "data": {
      "text/plain": [
       "array(['Bad', 'Good', 'Medium'], dtype=object)"
      ]
     },
     "execution_count": 18,
     "metadata": {},
     "output_type": "execute_result"
    }
   ],
   "source": [
    "company_data['shelf_loc'].unique()"
   ]
  },
  {
   "cell_type": "code",
   "execution_count": 19,
   "id": "1e970f37",
   "metadata": {},
   "outputs": [
    {
     "data": {
      "text/plain": [
       "array([0, 1, 2])"
      ]
     },
     "execution_count": 19,
     "metadata": {},
     "output_type": "execute_result"
    }
   ],
   "source": [
    "company_data_copy['shelf_loc'].unique()"
   ]
  },
  {
   "cell_type": "markdown",
   "id": "309d728e",
   "metadata": {},
   "source": [
    "* 0 - **Bad**\n",
    "* 1 - **Good**\n",
    "* 2 - **Medium**"
   ]
  },
  {
   "cell_type": "markdown",
   "id": "8c30f2ab",
   "metadata": {},
   "source": [
    "##### 2. Urban column transformation :"
   ]
  },
  {
   "cell_type": "code",
   "execution_count": 20,
   "id": "c60558ae",
   "metadata": {},
   "outputs": [
    {
     "data": {
      "text/plain": [
       "array(['Yes', 'No'], dtype=object)"
      ]
     },
     "execution_count": 20,
     "metadata": {},
     "output_type": "execute_result"
    }
   ],
   "source": [
    "company_data['urban'].unique()"
   ]
  },
  {
   "cell_type": "code",
   "execution_count": 21,
   "id": "f18c1d13",
   "metadata": {},
   "outputs": [
    {
     "data": {
      "text/plain": [
       "array([1, 0])"
      ]
     },
     "execution_count": 21,
     "metadata": {},
     "output_type": "execute_result"
    }
   ],
   "source": [
    "company_data_copy['urban'].unique()"
   ]
  },
  {
   "cell_type": "markdown",
   "id": "85ff85cc",
   "metadata": {},
   "source": [
    "* 1 - **Yes**\n",
    "* 2 - **No**"
   ]
  },
  {
   "cell_type": "markdown",
   "id": "a1f698bd",
   "metadata": {},
   "source": [
    "##### 3. US column transformation :"
   ]
  },
  {
   "cell_type": "code",
   "execution_count": 22,
   "id": "045ffed6",
   "metadata": {},
   "outputs": [
    {
     "data": {
      "text/plain": [
       "array(['Yes', 'No'], dtype=object)"
      ]
     },
     "execution_count": 22,
     "metadata": {},
     "output_type": "execute_result"
    }
   ],
   "source": [
    "company_data['us'].unique()"
   ]
  },
  {
   "cell_type": "code",
   "execution_count": 23,
   "id": "4ed71637",
   "metadata": {},
   "outputs": [
    {
     "data": {
      "text/plain": [
       "array([1, 0])"
      ]
     },
     "execution_count": 23,
     "metadata": {},
     "output_type": "execute_result"
    }
   ],
   "source": [
    "company_data_copy['us'].unique()"
   ]
  },
  {
   "cell_type": "markdown",
   "id": "65369e76",
   "metadata": {},
   "source": [
    "* 1 - **Yes**\n",
    "* 2 - **No**"
   ]
  },
  {
   "cell_type": "markdown",
   "id": "62c281f2",
   "metadata": {},
   "source": [
    "##### 4. Target_sales transformation :"
   ]
  },
  {
   "cell_type": "code",
   "execution_count": 24,
   "id": "edfb03e0",
   "metadata": {},
   "outputs": [
    {
     "data": {
      "text/plain": [
       "array(['High', 'Low'], dtype=object)"
      ]
     },
     "execution_count": 24,
     "metadata": {},
     "output_type": "execute_result"
    }
   ],
   "source": [
    "company_data['target_sales'].unique()"
   ]
  },
  {
   "cell_type": "code",
   "execution_count": 25,
   "id": "7f895785",
   "metadata": {},
   "outputs": [
    {
     "data": {
      "text/plain": [
       "array([0, 1])"
      ]
     },
     "execution_count": 25,
     "metadata": {},
     "output_type": "execute_result"
    }
   ],
   "source": [
    "company_data_copy['target_sales'].unique()"
   ]
  },
  {
   "cell_type": "markdown",
   "id": "f0d4b016",
   "metadata": {},
   "source": [
    "* 0 - **High**\n",
    "* 1 - **Low** "
   ]
  },
  {
   "cell_type": "markdown",
   "id": "56e1dee3",
   "metadata": {},
   "source": [
    "### 5.2 Checking dataset after transformation :"
   ]
  },
  {
   "cell_type": "code",
   "execution_count": 26,
   "id": "58f56cc3",
   "metadata": {},
   "outputs": [
    {
     "data": {
      "text/plain": [
       "sales           float64\n",
       "comp_price        int64\n",
       "income            int64\n",
       "advertising       int64\n",
       "population        int64\n",
       "price             int64\n",
       "shelf_loc         int32\n",
       "age               int64\n",
       "education         int64\n",
       "urban             int32\n",
       "us                int32\n",
       "target_sales      int32\n",
       "dtype: object"
      ]
     },
     "execution_count": 26,
     "metadata": {},
     "output_type": "execute_result"
    }
   ],
   "source": [
    "company_data_copy.dtypes"
   ]
  },
  {
   "cell_type": "code",
   "execution_count": 27,
   "id": "e9f8c95b",
   "metadata": {},
   "outputs": [
    {
     "data": {
      "text/plain": [
       "sales           0\n",
       "comp_price      0\n",
       "income          0\n",
       "advertising     0\n",
       "population      0\n",
       "price           0\n",
       "shelf_loc       0\n",
       "age             0\n",
       "education       0\n",
       "urban           0\n",
       "us              0\n",
       "target_sales    0\n",
       "dtype: int64"
      ]
     },
     "execution_count": 27,
     "metadata": {},
     "output_type": "execute_result"
    }
   ],
   "source": [
    "company_data_copy.isna().sum()"
   ]
  },
  {
   "cell_type": "markdown",
   "id": "1f74e354",
   "metadata": {},
   "source": [
    "## 6. Model Building :"
   ]
  },
  {
   "cell_type": "code",
   "execution_count": 28,
   "id": "95800cd2",
   "metadata": {},
   "outputs": [],
   "source": [
    "del company_data_copy['sales']"
   ]
  },
  {
   "cell_type": "code",
   "execution_count": 29,
   "id": "4d634761",
   "metadata": {},
   "outputs": [],
   "source": [
    "X = company_data_copy.drop(labels= 'target_sales',axis=1)\n",
    "y = company_data_copy[['target_sales']]"
   ]
  },
  {
   "cell_type": "code",
   "execution_count": 40,
   "id": "6d5e3f70",
   "metadata": {},
   "outputs": [],
   "source": [
    "from sklearn.model_selection import train_test_split\n",
    "X_train, X_test, y_train, y_test = train_test_split(X,y,test_size=0.20,random_state=12,stratify=y)"
   ]
  },
  {
   "cell_type": "code",
   "execution_count": 41,
   "id": "a1edaa35",
   "metadata": {},
   "outputs": [
    {
     "data": {
      "text/plain": [
       "((320, 10), (320, 1))"
      ]
     },
     "execution_count": 41,
     "metadata": {},
     "output_type": "execute_result"
    }
   ],
   "source": [
    "X_train.shape, y_train.shape"
   ]
  },
  {
   "cell_type": "code",
   "execution_count": 42,
   "id": "89b51b03",
   "metadata": {},
   "outputs": [
    {
     "data": {
      "text/plain": [
       "((80, 10), (80, 1))"
      ]
     },
     "execution_count": 42,
     "metadata": {},
     "output_type": "execute_result"
    }
   ],
   "source": [
    "X_test.shape, y_test.shape"
   ]
  },
  {
   "cell_type": "markdown",
   "id": "62a9bc01",
   "metadata": {},
   "source": [
    "## 7. Model Training :"
   ]
  },
  {
   "cell_type": "code",
   "execution_count": 43,
   "id": "73b0cf88",
   "metadata": {},
   "outputs": [],
   "source": [
    "from sklearn.ensemble import RandomForestClassifier"
   ]
  },
  {
   "cell_type": "code",
   "execution_count": 80,
   "id": "02dc6f52",
   "metadata": {},
   "outputs": [
    {
     "data": {
      "text/plain": [
       "RandomForestClassifier(class_weight='balanced', max_depth=3, n_estimators=400,\n",
       "                       n_jobs=-1)"
      ]
     },
     "execution_count": 80,
     "metadata": {},
     "output_type": "execute_result"
    }
   ],
   "source": [
    "rf_model_1 = RandomForestClassifier(n_estimators=400,\n",
    "                                    criterion='gini',\n",
    "                                    max_depth = 3,\n",
    "                                    min_samples_split= 2, \n",
    "                                    min_samples_leaf= 1,\n",
    "                                    max_features='auto',\n",
    "                                    max_leaf_nodes=None,\n",
    "                                    min_impurity_decrease=0.0,\n",
    "                                    min_impurity_split=None,\n",
    "                                    n_jobs= -1,\n",
    "                                    class_weight='balanced')\n",
    "rf_model_1.fit(X_train,y_train)"
   ]
  },
  {
   "cell_type": "markdown",
   "id": "74d8d88c",
   "metadata": {},
   "source": [
    "### Plotting the random_forest tree:"
   ]
  },
  {
   "cell_type": "code",
   "execution_count": 81,
   "id": "f3e06b1f",
   "metadata": {},
   "outputs": [
    {
     "data": {
      "image/png": "[encoded data removed]",
      "text/plain": [
       "<Figure size 1152x576 with 1 Axes>"
      ]
     },
     "metadata": {
      "needs_background": "light"
     },
     "output_type": "display_data"
    }
   ],
   "source": [
    "from sklearn.tree import plot_tree\n",
    "\n",
    "plt.figure(figsize=(16,8))\n",
    "plot_tree(rf_model_1.estimators_[0],  \n",
    "          filled=True, \n",
    "          impurity=True, \n",
    "          rounded=True)\n",
    "plt.show()"
   ]
  },
  {
   "cell_type": "code",
   "execution_count": 82,
   "id": "1164772f",
   "metadata": {},
   "outputs": [
    {
     "data": {
      "text/plain": [
       "RandomForestClassifier(class_weight='balanced', max_depth=3,\n",
       "                       max_features='log2', n_estimators=400, n_jobs=1)"
      ]
     },
     "execution_count": 82,
     "metadata": {},
     "output_type": "execute_result"
    }
   ],
   "source": [
    "rf_model_2 = RandomForestClassifier(n_estimators=400,\n",
    "                                    criterion='gini',\n",
    "                                    max_depth = 3,\n",
    "                                    min_samples_split= 2, \n",
    "                                    min_samples_leaf= 1,\n",
    "                                    max_features='log2',\n",
    "                                    max_leaf_nodes=None,\n",
    "                                    min_impurity_decrease=0.0,\n",
    "                                    min_impurity_split=None,\n",
    "                                    n_jobs= 1,\n",
    "                                    class_weight='balanced')\n",
    "rf_model_2.fit(X_train,y_train)"
   ]
  },
  {
   "cell_type": "code",
   "execution_count": 83,
   "id": "4faf69d2",
   "metadata": {},
   "outputs": [
    {
     "data": {
      "image/png": "[encoded data removed]",
      "text/plain": [
       "<Figure size 1152x576 with 1 Axes>"
      ]
     },
     "metadata": {
      "needs_background": "light"
     },
     "output_type": "display_data"
    }
   ],
   "source": [
    "from sklearn.tree import plot_tree\n",
    "\n",
    "plt.figure(figsize=(16,8))\n",
    "plot_tree(rf_model_2.estimators_[0],  \n",
    "          filled=True, \n",
    "          impurity=True, \n",
    "          rounded=True)\n",
    "plt.show()"
   ]
  },
  {
   "cell_type": "code",
   "execution_count": 84,
   "id": "8674ac67",
   "metadata": {},
   "outputs": [
    {
     "data": {
      "text/plain": [
       "RandomForestClassifier(class_weight='balanced', criterion='entropy',\n",
       "                       max_depth=3, max_features='sqrt', n_estimators=400,\n",
       "                       n_jobs=1)"
      ]
     },
     "execution_count": 84,
     "metadata": {},
     "output_type": "execute_result"
    }
   ],
   "source": [
    "rf_model_3 = RandomForestClassifier(n_estimators=400,\n",
    "                                    criterion='entropy',\n",
    "                                    max_depth = 3,\n",
    "                                    min_samples_split= 2, \n",
    "                                    min_samples_leaf= 1,\n",
    "                                    max_features='sqrt',\n",
    "                                    max_leaf_nodes=None,\n",
    "                                    min_impurity_decrease=0.0,\n",
    "                                    min_impurity_split=None,\n",
    "                                    n_jobs= 1,\n",
    "                                    class_weight='balanced')\n",
    "rf_model_3.fit(X_train,y_train)"
   ]
  },
  {
   "cell_type": "code",
   "execution_count": 85,
   "id": "66f77fcc",
   "metadata": {},
   "outputs": [
    {
     "data": {
      "text/plain": [
       "RandomForestClassifier(class_weight='balanced', criterion='entropy',\n",
       "                       max_depth=3, max_features='log2', n_estimators=400,\n",
       "                       n_jobs=1)"
      ]
     },
     "execution_count": 85,
     "metadata": {},
     "output_type": "execute_result"
    }
   ],
   "source": [
    "rf_model_4 = RandomForestClassifier(n_estimators=400,\n",
    "                                    criterion='entropy',\n",
    "                                    max_depth = 3,\n",
    "                                    min_samples_split= 2, \n",
    "                                    min_samples_leaf= 1,\n",
    "                                    max_features='log2',\n",
    "                                    max_leaf_nodes=None,\n",
    "                                    min_impurity_decrease=0.0,\n",
    "                                    min_impurity_split=None,\n",
    "                                    n_jobs= 1,\n",
    "                                    class_weight='balanced')\n",
    "rf_model_4.fit(X_train,y_train)"
   ]
  },
  {
   "cell_type": "code",
   "execution_count": 86,
   "id": "8d2db6f6",
   "metadata": {},
   "outputs": [
    {
     "data": {
      "text/plain": [
       "RandomForestClassifier(class_weight='balanced', criterion='entropy',\n",
       "                       max_depth=3, n_estimators=400, n_jobs=-1)"
      ]
     },
     "execution_count": 86,
     "metadata": {},
     "output_type": "execute_result"
    }
   ],
   "source": [
    "rf_model_5 = RandomForestClassifier(n_estimators=400,\n",
    "                                    criterion='entropy',\n",
    "                                    max_depth = 3,\n",
    "                                    min_samples_split= 2, \n",
    "                                    min_samples_leaf= 1,\n",
    "                                    max_features='auto',\n",
    "                                    max_leaf_nodes=None,\n",
    "                                    min_impurity_decrease=0.0,\n",
    "                                    min_impurity_split=None,\n",
    "                                    n_jobs= -1,\n",
    "                                    class_weight='balanced')\n",
    "rf_model_5.fit(X_train,y_train)"
   ]
  },
  {
   "cell_type": "markdown",
   "id": "2941129b",
   "metadata": {},
   "source": [
    "## 8. Model Testing :"
   ]
  },
  {
   "cell_type": "code",
   "execution_count": 87,
   "id": "b4c333d4",
   "metadata": {},
   "outputs": [],
   "source": [
    "# Training data :\n",
    "\n",
    "y_predict_train_1 = rf_model_1.predict(X_train)\n",
    "y_predict_train_2 = rf_model_2.predict(X_train)\n",
    "y_predict_train_3 = rf_model_3.predict(X_train)\n",
    "y_predict_train_4 = rf_model_4.predict(X_train)\n",
    "y_predict_train_5 = rf_model_5.predict(X_train)\n",
    "\n",
    "# Test data :\n",
    "\n",
    "y_predict_test_1 = rf_model_1.predict(X_test)\n",
    "y_predict_test_2 = rf_model_2.predict(X_test)\n",
    "y_predict_test_3 = rf_model_3.predict(X_test)\n",
    "y_predict_test_4 = rf_model_4.predict(X_test)\n",
    "y_predict_test_5 = rf_model_5.predict(X_test)"
   ]
  },
  {
   "cell_type": "markdown",
   "id": "6520e489",
   "metadata": {},
   "source": [
    "## 9. Model Evaluation :"
   ]
  },
  {
   "cell_type": "code",
   "execution_count": 88,
   "id": "0b9c06c6",
   "metadata": {},
   "outputs": [],
   "source": [
    "from sklearn.metrics import accuracy_score,precision_score,recall_score,classification_report,confusion_matrix"
   ]
  },
  {
   "cell_type": "markdown",
   "id": "08c65115",
   "metadata": {},
   "source": [
    "### 9.1 Training data :"
   ]
  },
  {
   "cell_type": "markdown",
   "id": "e9815ff6",
   "metadata": {},
   "source": [
    "#### Model - 1 :"
   ]
  },
  {
   "cell_type": "code",
   "execution_count": 89,
   "id": "17b9fff8",
   "metadata": {},
   "outputs": [
    {
     "name": "stdout",
     "output_type": "stream",
     "text": [
      "TRAINING MODEL - 1\n",
      "-------------------------------\n",
      "Accuracy Score        : 0.8594\n",
      "Precision Score       : 0.8382\n",
      "Recall Score          : 0.8951\n",
      "Confusion Matrix      :\n",
      " [[130  28]\n",
      " [ 17 145]]\n",
      "Classification Report :\n",
      "               precision    recall  f1-score   support\n",
      "\n",
      "           0       0.88      0.82      0.85       158\n",
      "           1       0.84      0.90      0.87       162\n",
      "\n",
      "    accuracy                           0.86       320\n",
      "   macro avg       0.86      0.86      0.86       320\n",
      "weighted avg       0.86      0.86      0.86       320\n",
      "\n"
     ]
    }
   ],
   "source": [
    "print('TRAINING MODEL - 1')\n",
    "print('-------------------------------')\n",
    "print('Accuracy Score        :',round(accuracy_score(y_train,y_predict_train_1),4))\n",
    "print('Precision Score       :',round(precision_score(y_train,y_predict_train_1),4))\n",
    "print('Recall Score          :',round(recall_score(y_train,y_predict_train_1),4))\n",
    "print('Confusion Matrix      :\\n',confusion_matrix(y_train,y_predict_train_1))\n",
    "print('Classification Report :\\n',classification_report(y_train,y_predict_train_1))"
   ]
  },
  {
   "cell_type": "markdown",
   "id": "cf7dcbf5",
   "metadata": {},
   "source": [
    "#### Model - 2 :"
   ]
  },
  {
   "cell_type": "code",
   "execution_count": 90,
   "id": "de79e121",
   "metadata": {},
   "outputs": [
    {
     "name": "stdout",
     "output_type": "stream",
     "text": [
      "TRAINING MODEL - 2\n",
      "-------------------------------\n",
      "Accuracy Score        : 0.8688\n",
      "Precision Score       : 0.8488\n",
      "Recall Score          : 0.9012\n",
      "Confusion Matrix      :\n",
      " [[132  26]\n",
      " [ 16 146]]\n",
      "Classification Report :\n",
      "               precision    recall  f1-score   support\n",
      "\n",
      "           0       0.89      0.84      0.86       158\n",
      "           1       0.85      0.90      0.87       162\n",
      "\n",
      "    accuracy                           0.87       320\n",
      "   macro avg       0.87      0.87      0.87       320\n",
      "weighted avg       0.87      0.87      0.87       320\n",
      "\n"
     ]
    }
   ],
   "source": [
    "print('TRAINING MODEL - 2')\n",
    "print('-------------------------------')\n",
    "print('Accuracy Score        :',round(accuracy_score(y_train,y_predict_train_2),4))\n",
    "print('Precision Score       :',round(precision_score(y_train,y_predict_train_2),4))\n",
    "print('Recall Score          :',round(recall_score(y_train,y_predict_train_2),4))\n",
    "print('Confusion Matrix      :\\n',confusion_matrix(y_train,y_predict_train_2))\n",
    "print('Classification Report :\\n',classification_report(y_train,y_predict_train_2))"
   ]
  },
  {
   "cell_type": "markdown",
   "id": "066748b0",
   "metadata": {},
   "source": [
    "#### Model - 3 :"
   ]
  },
  {
   "cell_type": "code",
   "execution_count": 91,
   "id": "abff9568",
   "metadata": {},
   "outputs": [
    {
     "name": "stdout",
     "output_type": "stream",
     "text": [
      "TRAINING MODEL - 3\n",
      "-------------------------------\n",
      "Accuracy Score        : 0.8594\n",
      "Precision Score       : 0.8462\n",
      "Recall Score          : 0.8827\n",
      "Confusion Matrix      :\n",
      " [[132  26]\n",
      " [ 19 143]]\n",
      "Classification Report :\n",
      "               precision    recall  f1-score   support\n",
      "\n",
      "           0       0.87      0.84      0.85       158\n",
      "           1       0.85      0.88      0.86       162\n",
      "\n",
      "    accuracy                           0.86       320\n",
      "   macro avg       0.86      0.86      0.86       320\n",
      "weighted avg       0.86      0.86      0.86       320\n",
      "\n"
     ]
    }
   ],
   "source": [
    "print('TRAINING MODEL - 3')\n",
    "print('-------------------------------')\n",
    "print('Accuracy Score        :',round(accuracy_score(y_train,y_predict_train_3),4))\n",
    "print('Precision Score       :',round(precision_score(y_train,y_predict_train_3),4))\n",
    "print('Recall Score          :',round(recall_score(y_train,y_predict_train_3),4))\n",
    "print('Confusion Matrix      :\\n',confusion_matrix(y_train,y_predict_train_3))\n",
    "print('Classification Report :\\n',classification_report(y_train,y_predict_train_3))"
   ]
  },
  {
   "cell_type": "markdown",
   "id": "330c3648",
   "metadata": {},
   "source": [
    "#### Model - 4 :"
   ]
  },
  {
   "cell_type": "code",
   "execution_count": 92,
   "id": "43859b47",
   "metadata": {},
   "outputs": [
    {
     "name": "stdout",
     "output_type": "stream",
     "text": [
      "TRAINING MODEL - 4\n",
      "-------------------------------\n",
      "Accuracy Score        : 0.85\n",
      "Precision Score       : 0.8353\n",
      "Recall Score          : 0.8765\n",
      "Confusion Matrix      :\n",
      " [[130  28]\n",
      " [ 20 142]]\n",
      "Classification Report :\n",
      "               precision    recall  f1-score   support\n",
      "\n",
      "           0       0.87      0.82      0.84       158\n",
      "           1       0.84      0.88      0.86       162\n",
      "\n",
      "    accuracy                           0.85       320\n",
      "   macro avg       0.85      0.85      0.85       320\n",
      "weighted avg       0.85      0.85      0.85       320\n",
      "\n"
     ]
    }
   ],
   "source": [
    "print('TRAINING MODEL - 4')\n",
    "print('-------------------------------')\n",
    "print('Accuracy Score        :',round(accuracy_score(y_train,y_predict_train_4),4))\n",
    "print('Precision Score       :',round(precision_score(y_train,y_predict_train_4),4))\n",
    "print('Recall Score          :',round(recall_score(y_train,y_predict_train_4),4))\n",
    "print('Confusion Matrix      :\\n',confusion_matrix(y_train,y_predict_train_4))\n",
    "print('Classification Report :\\n',classification_report(y_train,y_predict_train_4))"
   ]
  },
  {
   "cell_type": "markdown",
   "id": "7d4fc954",
   "metadata": {},
   "source": [
    "#### Model - 5 :"
   ]
  },
  {
   "cell_type": "code",
   "execution_count": 93,
   "id": "37ab314e",
   "metadata": {},
   "outputs": [
    {
     "name": "stdout",
     "output_type": "stream",
     "text": [
      "TRAINING MODEL - 5\n",
      "-------------------------------\n",
      "Accuracy Score        : 0.8562\n",
      "Precision Score       : 0.8412\n",
      "Recall Score          : 0.8827\n",
      "Confusion Matrix      :\n",
      " [[131  27]\n",
      " [ 19 143]]\n",
      "Classification Report :\n",
      "               precision    recall  f1-score   support\n",
      "\n",
      "           0       0.87      0.83      0.85       158\n",
      "           1       0.84      0.88      0.86       162\n",
      "\n",
      "    accuracy                           0.86       320\n",
      "   macro avg       0.86      0.86      0.86       320\n",
      "weighted avg       0.86      0.86      0.86       320\n",
      "\n"
     ]
    }
   ],
   "source": [
    "print('TRAINING MODEL - 5')\n",
    "print('-------------------------------')\n",
    "print('Accuracy Score        :',round(accuracy_score(y_train,y_predict_train_5),4))\n",
    "print('Precision Score       :',round(precision_score(y_train,y_predict_train_5),4))\n",
    "print('Recall Score          :',round(recall_score(y_train,y_predict_train_5),4))\n",
    "print('Confusion Matrix      :\\n',confusion_matrix(y_train,y_predict_train_5))\n",
    "print('Classification Report :\\n',classification_report(y_train,y_predict_train_5))"
   ]
  },
  {
   "cell_type": "markdown",
   "id": "66d6e348",
   "metadata": {},
   "source": [
    "### 9.2 Test Data :"
   ]
  },
  {
   "cell_type": "markdown",
   "id": "16c1c643",
   "metadata": {},
   "source": [
    "#### Model - 1:"
   ]
  },
  {
   "cell_type": "code",
   "execution_count": 94,
   "id": "0c723dfc",
   "metadata": {},
   "outputs": [
    {
     "name": "stdout",
     "output_type": "stream",
     "text": [
      "TEST MODEL - 1\n",
      "-------------------------------\n",
      "Accuracy Score        : 0.825\n",
      "Precision Score       : 0.8421\n",
      "Recall Score          : 0.8\n",
      "Confusion Matrix      :\n",
      " [[34  6]\n",
      " [ 8 32]]\n",
      "Classification Report :\n",
      "               precision    recall  f1-score   support\n",
      "\n",
      "           0       0.81      0.85      0.83        40\n",
      "           1       0.84      0.80      0.82        40\n",
      "\n",
      "    accuracy                           0.82        80\n",
      "   macro avg       0.83      0.82      0.82        80\n",
      "weighted avg       0.83      0.82      0.82        80\n",
      "\n"
     ]
    }
   ],
   "source": [
    "print('TEST MODEL - 1')\n",
    "print('-------------------------------')\n",
    "print('Accuracy Score        :',round(accuracy_score(y_test,y_predict_test_1),4))\n",
    "print('Precision Score       :',round(precision_score(y_test,y_predict_test_1),4))\n",
    "print('Recall Score          :',round(recall_score(y_test,y_predict_test_1),4))\n",
    "print('Confusion Matrix      :\\n',confusion_matrix(y_test,y_predict_test_1))\n",
    "print('Classification Report :\\n',classification_report(y_test,y_predict_test_1))"
   ]
  },
  {
   "cell_type": "markdown",
   "id": "3bbcde5f",
   "metadata": {},
   "source": [
    "#### Model - 2 :"
   ]
  },
  {
   "cell_type": "code",
   "execution_count": 95,
   "id": "aeebb68a",
   "metadata": {},
   "outputs": [
    {
     "name": "stdout",
     "output_type": "stream",
     "text": [
      "TEST MODEL - 2\n",
      "-------------------------------\n",
      "Accuracy Score        : 0.85\n",
      "Precision Score       : 0.85\n",
      "Recall Score          : 0.85\n",
      "Confusion Matrix      :\n",
      " [[34  6]\n",
      " [ 6 34]]\n",
      "Classification Report :\n",
      "               precision    recall  f1-score   support\n",
      "\n",
      "           0       0.85      0.85      0.85        40\n",
      "           1       0.85      0.85      0.85        40\n",
      "\n",
      "    accuracy                           0.85        80\n",
      "   macro avg       0.85      0.85      0.85        80\n",
      "weighted avg       0.85      0.85      0.85        80\n",
      "\n"
     ]
    }
   ],
   "source": [
    "print('TEST MODEL - 2')\n",
    "print('-------------------------------')\n",
    "print('Accuracy Score        :',round(accuracy_score(y_test,y_predict_test_2),4))\n",
    "print('Precision Score       :',round(precision_score(y_test,y_predict_test_2),4))\n",
    "print('Recall Score          :',round(recall_score(y_test,y_predict_test_2),4))\n",
    "print('Confusion Matrix      :\\n',confusion_matrix(y_test,y_predict_test_2))\n",
    "print('Classification Report :\\n',classification_report(y_test,y_predict_test_2))"
   ]
  },
  {
   "cell_type": "markdown",
   "id": "f60f0bd0",
   "metadata": {},
   "source": [
    "#### Model - 3 :"
   ]
  },
  {
   "cell_type": "code",
   "execution_count": 96,
   "id": "0b8f8489",
   "metadata": {},
   "outputs": [
    {
     "name": "stdout",
     "output_type": "stream",
     "text": [
      "TEST MODEL - 3\n",
      "-------------------------------\n",
      "Accuracy Score        : 0.85\n",
      "Precision Score       : 0.8684\n",
      "Recall Score          : 0.825\n",
      "Confusion Matrix      :\n",
      " [[35  5]\n",
      " [ 7 33]]\n",
      "Classification Report :\n",
      "               precision    recall  f1-score   support\n",
      "\n",
      "           0       0.83      0.88      0.85        40\n",
      "           1       0.87      0.82      0.85        40\n",
      "\n",
      "    accuracy                           0.85        80\n",
      "   macro avg       0.85      0.85      0.85        80\n",
      "weighted avg       0.85      0.85      0.85        80\n",
      "\n"
     ]
    }
   ],
   "source": [
    "print('TEST MODEL - 3')\n",
    "print('-------------------------------')\n",
    "print('Accuracy Score        :',round(accuracy_score(y_test,y_predict_test_3),4))\n",
    "print('Precision Score       :',round(precision_score(y_test,y_predict_test_3),4))\n",
    "print('Recall Score          :',round(recall_score(y_test,y_predict_test_3),4))\n",
    "print('Confusion Matrix      :\\n',confusion_matrix(y_test,y_predict_test_3))\n",
    "print('Classification Report :\\n',classification_report(y_test,y_predict_test_3))"
   ]
  },
  {
   "cell_type": "markdown",
   "id": "a59ae9d1",
   "metadata": {},
   "source": [
    "#### Model - 4 :"
   ]
  },
  {
   "cell_type": "code",
   "execution_count": 97,
   "id": "05f37c9c",
   "metadata": {},
   "outputs": [
    {
     "name": "stdout",
     "output_type": "stream",
     "text": [
      "TEST MODEL - 4\n",
      "-------------------------------\n",
      "Accuracy Score        : 0.825\n",
      "Precision Score       : 0.8421\n",
      "Recall Score          : 0.8\n",
      "Confusion Matrix      :\n",
      " [[34  6]\n",
      " [ 8 32]]\n",
      "Classification Report :\n",
      "               precision    recall  f1-score   support\n",
      "\n",
      "           0       0.81      0.85      0.83        40\n",
      "           1       0.84      0.80      0.82        40\n",
      "\n",
      "    accuracy                           0.82        80\n",
      "   macro avg       0.83      0.82      0.82        80\n",
      "weighted avg       0.83      0.82      0.82        80\n",
      "\n"
     ]
    }
   ],
   "source": [
    "print('TEST MODEL - 4')\n",
    "print('-------------------------------')\n",
    "print('Accuracy Score        :',round(accuracy_score(y_test,y_predict_test_4),4))\n",
    "print('Precision Score       :',round(precision_score(y_test,y_predict_test_4),4))\n",
    "print('Recall Score          :',round(recall_score(y_test,y_predict_test_4),4))\n",
    "print('Confusion Matrix      :\\n',confusion_matrix(y_test,y_predict_test_4))\n",
    "print('Classification Report :\\n',classification_report(y_test,y_predict_test_4))"
   ]
  },
  {
   "cell_type": "markdown",
   "id": "f0aaffe7",
   "metadata": {},
   "source": [
    "#### Model - 5 :"
   ]
  },
  {
   "cell_type": "code",
   "execution_count": 98,
   "id": "2e1ed9c7",
   "metadata": {},
   "outputs": [
    {
     "name": "stdout",
     "output_type": "stream",
     "text": [
      "TEST MODEL - 5\n",
      "-------------------------------\n",
      "Accuracy Score        : 0.85\n",
      "Precision Score       : 0.8684\n",
      "Recall Score          : 0.825\n",
      "Confusion Matrix      :\n",
      " [[35  5]\n",
      " [ 7 33]]\n",
      "Classification Report :\n",
      "               precision    recall  f1-score   support\n",
      "\n",
      "           0       0.83      0.88      0.85        40\n",
      "           1       0.87      0.82      0.85        40\n",
      "\n",
      "    accuracy                           0.85        80\n",
      "   macro avg       0.85      0.85      0.85        80\n",
      "weighted avg       0.85      0.85      0.85        80\n",
      "\n"
     ]
    }
   ],
   "source": [
    "print('TEST MODEL - 5')\n",
    "print('-------------------------------')\n",
    "print('Accuracy Score        :',round(accuracy_score(y_test,y_predict_test_5),4))\n",
    "print('Precision Score       :',round(precision_score(y_test,y_predict_test_5),4))\n",
    "print('Recall Score          :',round(recall_score(y_test,y_predict_test_5),4))\n",
    "print('Confusion Matrix      :\\n',confusion_matrix(y_test,y_predict_test_5))\n",
    "print('Classification Report :\\n',classification_report(y_test,y_predict_test_5))"
   ]
  },
  {
   "cell_type": "code",
   "execution_count": 99,
   "id": "bd78c776",
   "metadata": {},
   "outputs": [
    {
     "data": {
      "text/html": [
       "<div>\n",
       "<style scoped>\n",
       "    .dataframe tbody tr th:only-of-type {\n",
       "        vertical-align: middle;\n",
       "    }\n",
       "\n",
       "    .dataframe tbody tr th {\n",
       "        vertical-align: top;\n",
       "    }\n",
       "\n",
       "    .dataframe thead th {\n",
       "        text-align: right;\n",
       "    }\n",
       "</style>\n",
       "<table border=\"1\" class=\"dataframe\">\n",
       "  <thead>\n",
       "    <tr style=\"text-align: right;\">\n",
       "      <th></th>\n",
       "      <th>Train_Models</th>\n",
       "      <th>Train_Accuracy_Scores</th>\n",
       "      <th>Test_Accuracy_Scores</th>\n",
       "      <th>Train_Precision_Scores</th>\n",
       "      <th>Test_Precision_Scores</th>\n",
       "      <th>Train_Recall_Scores</th>\n",
       "      <th>Test_Recall_Scores</th>\n",
       "    </tr>\n",
       "  </thead>\n",
       "  <tbody>\n",
       "    <tr>\n",
       "      <th>0</th>\n",
       "      <td>Model_1</td>\n",
       "      <td>0.8594</td>\n",
       "      <td>0.825</td>\n",
       "      <td>0.8382</td>\n",
       "      <td>0.8421</td>\n",
       "      <td>0.8951</td>\n",
       "      <td>0.800</td>\n",
       "    </tr>\n",
       "    <tr>\n",
       "      <th>1</th>\n",
       "      <td>Model_2</td>\n",
       "      <td>0.8688</td>\n",
       "      <td>0.850</td>\n",
       "      <td>0.8488</td>\n",
       "      <td>0.8500</td>\n",
       "      <td>0.9012</td>\n",
       "      <td>0.850</td>\n",
       "    </tr>\n",
       "    <tr>\n",
       "      <th>2</th>\n",
       "      <td>Model_3</td>\n",
       "      <td>0.8594</td>\n",
       "      <td>0.850</td>\n",
       "      <td>0.8462</td>\n",
       "      <td>0.8684</td>\n",
       "      <td>0.8827</td>\n",
       "      <td>0.825</td>\n",
       "    </tr>\n",
       "    <tr>\n",
       "      <th>3</th>\n",
       "      <td>Model_4</td>\n",
       "      <td>0.8500</td>\n",
       "      <td>0.825</td>\n",
       "      <td>0.8353</td>\n",
       "      <td>0.8421</td>\n",
       "      <td>0.8765</td>\n",
       "      <td>0.800</td>\n",
       "    </tr>\n",
       "    <tr>\n",
       "      <th>4</th>\n",
       "      <td>Model_5</td>\n",
       "      <td>0.8562</td>\n",
       "      <td>0.850</td>\n",
       "      <td>0.8412</td>\n",
       "      <td>0.8684</td>\n",
       "      <td>0.8827</td>\n",
       "      <td>0.825</td>\n",
       "    </tr>\n",
       "  </tbody>\n",
       "</table>\n",
       "</div>"
      ],
      "text/plain": [
       "  Train_Models  Train_Accuracy_Scores  Test_Accuracy_Scores  \\\n",
       "0      Model_1                 0.8594                 0.825   \n",
       "1      Model_2                 0.8688                 0.850   \n",
       "2      Model_3                 0.8594                 0.850   \n",
       "3      Model_4                 0.8500                 0.825   \n",
       "4      Model_5                 0.8562                 0.850   \n",
       "\n",
       "   Train_Precision_Scores  Test_Precision_Scores  Train_Recall_Scores  \\\n",
       "0                  0.8382                 0.8421               0.8951   \n",
       "1                  0.8488                 0.8500               0.9012   \n",
       "2                  0.8462                 0.8684               0.8827   \n",
       "3                  0.8353                 0.8421               0.8765   \n",
       "4                  0.8412                 0.8684               0.8827   \n",
       "\n",
       "   Test_Recall_Scores  \n",
       "0               0.800  \n",
       "1               0.850  \n",
       "2               0.825  \n",
       "3               0.800  \n",
       "4               0.825  "
      ]
     },
     "execution_count": 99,
     "metadata": {},
     "output_type": "execute_result"
    }
   ],
   "source": [
    "train_models_values = {'Train_Models':['Model_1','Model_2','Model_3','Model_4','Model_5'],\n",
    "                       'Train_Accuracy_Scores':[round(accuracy_score(y_train,y_predict_train_1),4),\n",
    "                                          round(accuracy_score(y_train,y_predict_train_2),4),\n",
    "                                          round(accuracy_score(y_train,y_predict_train_3),4),\n",
    "                                          round(accuracy_score(y_train,y_predict_train_4),4),\n",
    "                                          round(accuracy_score(y_train,y_predict_train_5),4)],\n",
    "                       'Test_Accuracy_Scores':[round(accuracy_score(y_test,y_predict_test_1),4),\n",
    "                                          round(accuracy_score(y_test,y_predict_test_2),4),\n",
    "                                          round(accuracy_score(y_test,y_predict_test_3),4),\n",
    "                                          round(accuracy_score(y_test,y_predict_test_4),4),\n",
    "                                          round(accuracy_score(y_test,y_predict_test_5),4)],\n",
    "                      'Train_Precision_Scores':[round(precision_score(y_train,y_predict_train_1),4),\n",
    "                                          round(precision_score(y_train,y_predict_train_2),4),\n",
    "                                          round(precision_score(y_train,y_predict_train_3),4),\n",
    "                                          round(precision_score(y_train,y_predict_train_4),4),\n",
    "                                          round(precision_score(y_train,y_predict_train_5),4)],\n",
    "                       'Test_Precision_Scores':[round(precision_score(y_test,y_predict_test_1),4),\n",
    "                                             round(precision_score(y_test,y_predict_test_2),4),\n",
    "                                             round(precision_score(y_test,y_predict_test_3),4),\n",
    "                                             round(precision_score(y_test,y_predict_test_4),4),\n",
    "                                             round(precision_score(y_test,y_predict_test_5),4)],\n",
    "                      'Train_Recall_Scores':[round(recall_score(y_train,y_predict_train_1),4),\n",
    "                                             round(recall_score(y_train,y_predict_train_2),4),\n",
    "                                             round(recall_score(y_train,y_predict_train_3),4),\n",
    "                                             round(recall_score(y_train,y_predict_train_4),4),\n",
    "                                             round(recall_score(y_train,y_predict_train_5),4)],\n",
    "                      'Test_Recall_Scores':[round(recall_score(y_test,y_predict_test_1),4),\n",
    "                                            round(recall_score(y_test,y_predict_test_2),4),\n",
    "                                            round(recall_score(y_test,y_predict_test_3),4),\n",
    "                                            round(recall_score(y_test,y_predict_test_4),4),\n",
    "                                            round(recall_score(y_test,y_predict_test_5),4)]}\n",
    "train_models_values_df = pd.DataFrame(train_models_values)\n",
    "train_models_values_df"
   ]
  },
  {
   "cell_type": "markdown",
   "id": "96eaae7a",
   "metadata": {},
   "source": [
    "### -------------------------------------------------------------------------------------------------------------------------------------------------------"
   ]
  },
  {
   "cell_type": "markdown",
   "id": "054e4a22",
   "metadata": {},
   "source": [
    "### IMPROVING MODEL-1 using AdaBoostClassifier :"
   ]
  },
  {
   "cell_type": "code",
   "execution_count": 100,
   "id": "d6050c40",
   "metadata": {},
   "outputs": [],
   "source": [
    "from sklearn.ensemble import AdaBoostClassifier"
   ]
  },
  {
   "cell_type": "code",
   "execution_count": 101,
   "id": "21697759",
   "metadata": {},
   "outputs": [
    {
     "data": {
      "text/plain": [
       "AdaBoostClassifier(base_estimator=RandomForestClassifier())"
      ]
     },
     "execution_count": 101,
     "metadata": {},
     "output_type": "execute_result"
    }
   ],
   "source": [
    "rf_model_6 = AdaBoostClassifier(base_estimator= RandomForestClassifier())\n",
    "rf_model_6.fit(X_train,y_train)"
   ]
  },
  {
   "cell_type": "code",
   "execution_count": 102,
   "id": "dd3b50f4",
   "metadata": {},
   "outputs": [],
   "source": [
    "y_predict_train_6 = rf_model_6.predict(X_train)\n",
    "y_predict_test_6  = rf_model_6.predict(X_test)"
   ]
  },
  {
   "cell_type": "code",
   "execution_count": 104,
   "id": "49ca3d5b",
   "metadata": {},
   "outputs": [
    {
     "name": "stdout",
     "output_type": "stream",
     "text": [
      "TEST MODEL - 6\n",
      "-------------------------------\n",
      "Accuracy Score        : 0.8625\n",
      "Precision Score       : 0.9143\n",
      "Recall Score          : 0.8\n",
      "Confusion Matrix      :\n",
      " [[37  3]\n",
      " [ 8 32]]\n",
      "Classification Report :\n",
      "               precision    recall  f1-score   support\n",
      "\n",
      "           0       0.82      0.93      0.87        40\n",
      "           1       0.91      0.80      0.85        40\n",
      "\n",
      "    accuracy                           0.86        80\n",
      "   macro avg       0.87      0.86      0.86        80\n",
      "weighted avg       0.87      0.86      0.86        80\n",
      "\n"
     ]
    }
   ],
   "source": [
    "print('TEST MODEL - 6')\n",
    "print('-------------------------------')\n",
    "print('Accuracy Score        :',round(accuracy_score(y_test,y_predict_test_6),4))\n",
    "print('Precision Score       :',round(precision_score(y_test,y_predict_test_6),4))\n",
    "print('Recall Score          :',round(recall_score(y_test,y_predict_test_6),4))\n",
    "print('Confusion Matrix      :\\n',confusion_matrix(y_test,y_predict_test_6))\n",
    "print('Classification Report :\\n',classification_report(y_test,y_predict_test_6))"
   ]
  },
  {
   "cell_type": "markdown",
   "id": "157a944b",
   "metadata": {},
   "source": [
    "###### OBSERVATION :- \n",
    "\n",
    " * Before Improving :- \n",
    "     * Accuracy Score        : 0.8594\n",
    "     * Precision Score       : 0.8382\n",
    "     * Recall Score          : 0.8951\n",
    "     \n",
    " * After Improving:-\n",
    "    * Accuracy Score        : 0.8625\n",
    "    * Precision Score       : 0.9143\n",
    "    * Recall Score          : 0.8"
   ]
  },
  {
   "cell_type": "markdown",
   "id": "ba2642e3",
   "metadata": {},
   "source": [
    "### IMPROVING Model -3"
   ]
  },
  {
   "cell_type": "code",
   "execution_count": 113,
   "id": "e170cc80",
   "metadata": {},
   "outputs": [
    {
     "name": "stdout",
     "output_type": "stream",
     "text": [
      "TEST MODEL - 7\n",
      "-------------------------------\n",
      "Accuracy Score        : 0.8875\n",
      "Precision Score       : 0.9189\n",
      "Recall Score          : 0.85\n",
      "Confusion Matrix      :\n",
      " [[37  3]\n",
      " [ 6 34]]\n",
      "Classification Report :\n",
      "               precision    recall  f1-score   support\n",
      "\n",
      "           0       0.86      0.93      0.89        40\n",
      "           1       0.92      0.85      0.88        40\n",
      "\n",
      "    accuracy                           0.89        80\n",
      "   macro avg       0.89      0.89      0.89        80\n",
      "weighted avg       0.89      0.89      0.89        80\n",
      "\n"
     ]
    }
   ],
   "source": [
    "rf_model_7 = AdaBoostClassifier(base_estimator= RandomForestClassifier(n_estimators=400,\n",
    "                                    criterion='entropy',\n",
    "                                    max_depth = 3,\n",
    "                                    min_samples_split= 2, \n",
    "                                    min_samples_leaf= 1,\n",
    "                                    max_features='log2',\n",
    "                                    max_leaf_nodes=None,\n",
    "                                    min_impurity_decrease=0.0,\n",
    "                                    min_impurity_split=None,\n",
    "                                    n_jobs= 1,\n",
    "                                    class_weight='balanced'))\n",
    "rf_model_7.fit(X_train,y_train)\n",
    "\n",
    "y_predict_train_7 = rf_model_7.predict(X_train)\n",
    "y_predict_test_7  = rf_model_7.predict(X_test)\n",
    "\n",
    "print('TEST MODEL - 7')\n",
    "print('-------------------------------')\n",
    "print('Accuracy Score        :',round(accuracy_score(y_test,y_predict_test_7),4))\n",
    "print('Precision Score       :',round(precision_score(y_test,y_predict_test_7),4))\n",
    "print('Recall Score          :',round(recall_score(y_test,y_predict_test_7),4))\n",
    "print('Confusion Matrix      :\\n',confusion_matrix(y_test,y_predict_test_7))\n",
    "print('Classification Report :\\n',classification_report(y_test,y_predict_test_7))"
   ]
  },
  {
   "cell_type": "markdown",
   "id": "54e0aa32",
   "metadata": {},
   "source": [
    "### Improving Model using Bagging Classifier :"
   ]
  },
  {
   "cell_type": "code",
   "execution_count": 111,
   "id": "cf174ca4",
   "metadata": {},
   "outputs": [],
   "source": [
    "from sklearn.ensemble import BaggingClassifier"
   ]
  },
  {
   "cell_type": "code",
   "execution_count": 115,
   "id": "7f7702f2",
   "metadata": {},
   "outputs": [
    {
     "name": "stdout",
     "output_type": "stream",
     "text": [
      "TEST MODEL - 8\n",
      "-------------------------------\n",
      "Accuracy Score        : 0.875\n",
      "Precision Score       : 0.8571\n",
      "Recall Score          : 0.9\n",
      "Confusion Matrix      :\n",
      " [[34  6]\n",
      " [ 4 36]]\n",
      "Classification Report :\n",
      "               precision    recall  f1-score   support\n",
      "\n",
      "           0       0.89      0.85      0.87        40\n",
      "           1       0.86      0.90      0.88        40\n",
      "\n",
      "    accuracy                           0.88        80\n",
      "   macro avg       0.88      0.88      0.87        80\n",
      "weighted avg       0.88      0.88      0.87        80\n",
      "\n"
     ]
    }
   ],
   "source": [
    "rf_model_8 = BaggingClassifier(RandomForestClassifier(n_estimators=600,\n",
    "                                    criterion='gini',\n",
    "                                    max_depth = 7,\n",
    "                                    min_samples_split= 3, \n",
    "                                    min_samples_leaf= 2,\n",
    "                                    max_features='log2',\n",
    "                                    max_leaf_nodes=None,\n",
    "                                    min_impurity_decrease=0.0,\n",
    "                                    min_impurity_split=None,\n",
    "                                    n_jobs= -1,\n",
    "                                    class_weight='balanced'))\n",
    "rf_model_8.fit(X_train,y_train)\n",
    "\n",
    "y_predict_train_8 = rf_model_8.predict(X_train)\n",
    "y_predict_test_8  = rf_model_8.predict(X_test)\n",
    "\n",
    "print('TEST MODEL - 8')\n",
    "print('-------------------------------')\n",
    "print('Accuracy Score        :',round(accuracy_score(y_test,y_predict_test_8),4))\n",
    "print('Precision Score       :',round(precision_score(y_test,y_predict_test_8),4))\n",
    "print('Recall Score          :',round(recall_score(y_test,y_predict_test_8),4))\n",
    "print('Confusion Matrix      :\\n',confusion_matrix(y_test,y_predict_test_8))\n",
    "print('Classification Report :\\n',classification_report(y_test,y_predict_test_8))"
   ]
  },
  {
   "cell_type": "code",
   "execution_count": null,
   "id": "7c4402f2",
   "metadata": {},
   "outputs": [],
   "source": []
  }
 ],
 "metadata": {
  "kernelspec": {
   "display_name": "Python 3",
   "language": "python",
   "name": "python3"
  },
  "language_info": {
   "codemirror_mode": {
    "name": "ipython",
    "version": 3
   },
   "file_extension": ".py",
   "mimetype": "text/x-python",
   "name": "python",
   "nbconvert_exporter": "python",
   "pygments_lexer": "ipython3",
   "version": "3.8.8"
  }
 },
 "nbformat": 4,
 "nbformat_minor": 5
}
